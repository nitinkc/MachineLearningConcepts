{
 "cells": [
  {
   "cell_type": "markdown",
   "id": "3630c235-f891-4874-bd0a-5277d4d6aa82",
   "metadata": {},
   "source": [
    "# Inferring\n",
    "In this lesson, you will infer sentiment and topics from product reviews and news articles.\n",
    "\n",
    "## Setup"
   ]
  },
  {
   "cell_type": "code",
   "execution_count": 1,
   "id": "39689e67",
   "metadata": {
    "height": 132
   },
   "outputs": [],
   "source": [
    "import openai\n",
    "import os\n",
    "\n",
    "from dotenv import load_dotenv, find_dotenv\n",
    "_ = load_dotenv(find_dotenv()) # read local .env file\n",
    "\n",
    "openai.api_key  = os.getenv('OPENAI_API_KEY')"
   ]
  },
  {
   "cell_type": "code",
   "execution_count": 2,
   "id": "e82f5577",
   "metadata": {
    "height": 164
   },
   "outputs": [],
   "source": [
    "def get_completion(prompt, model=\"gpt-3.5-turbo\"):\n",
    "    messages = [{\"role\": \"user\", \"content\": prompt}]\n",
    "    response = openai.ChatCompletion.create(\n",
    "        model=model,\n",
    "        messages=messages,\n",
    "        temperature=0, # this is the degree of randomness of the model's output\n",
    "    )\n",
    "    return response.choices[0].message[\"content\"]"
   ]
  },
  {
   "cell_type": "markdown",
   "id": "51d2fdfa-c99f-4750-8574-dba7712cd7f0",
   "metadata": {},
   "source": [
    "## Product review text"
   ]
  },
  {
   "cell_type": "code",
   "execution_count": null,
   "id": "b0f3b49b",
   "metadata": {
    "height": 200
   },
   "outputs": [],
   "source": [
    "court_case = \"\"\" K. M. Nanavati vs State Of Maharashtra on 24 November, 1961\n",
    "Facts of the Case of KM Nanavati vs State of Maharashtra\n",
    "In KM Nanavati v State of Maharashtra, M. Nanavati, Indian Naval Officer, who was the second in charge of the Indian navy ship “Mysore.” He was married to Sylvia and had three children together. Nanavati and his family had moved around a lot because of the nature of his work before settling in Bombay, where they met the late Prem Bhagwan Ahuja for the first time through mutual acquaintances in Bombay. When Nanavati was regularly absent from Bombay on official duties for extended periods of time, his wife, Sylvia, fell in love with Prem Ahuja and began illicit relationships with him.\n",
    "After coming back, even after being affectionate with his wife, the same responses were not reverted back from his wife. Initially, when asked by Nanavati, his wife didn’t confess, but later on 27th April, 1959, Sylvia confessed about her illicit relationship with Prem Ahuja. Firstly, Nanavati drove his children and wife to the movies, promising to pick them up later.\n",
    "He then drove to his ship and, under false premises, got a handgun and six bullets, from there he went to Ahuja’s office, later he went to his residence as Ahuja was not there in his office. When he arrived at Ahuja’s place, the servant verified his presence, upon which he walked to Ahuja’s bedroom carrying the brown packet containing the gun and inquired about his intentions concerning Sylvia and his children. After receiving a dishonorable answer, he shot Prem Ahuja and later confessed his crime in the nearest police station.\n",
    "\n",
    "Issues in KM Nanavati vs State of Maharashtra\n",
    "There were couple of issues that was questioned in this KM Nanavati vs State of Maharashtra-\n",
    "\n",
    "As contradicting to Nanavati case, whether the Governor’s pardoning power and special leave petition can be combined together?\n",
    "The major question of the Nanavati case is whether the act was done in the sudden moment accidentally or was it a pre-planned assassination?\n",
    "Whether the High Court has the authority under Section 307(3) of the CrPC to overturn a jury’s judgment on the basis of misdirection in charge?\n",
    "Whether the High Court lacked jurisdiction to investigate the circumstances in order to evaluate the competency of the Sessions Judge’s reference under Section 307 of the CrPC?\n",
    "\n",
    "Petitioner’s Arguments:\n",
    "The first contention in Nanavati case put forth by Nanvati’s lawyers was after hearing the confession given by Sylvia, Nanavati wanted to kill himself but his wife managed to calm him down. He had an intention to know whether Prem Ahuja wanted to marry her, due to which he left his wife and children off at the movie theater and drove to his\n",
    "He misinformed the authorities before taking the handgun and six bullets, but his main intention was to shoot himself, both the handgun and ammunition were kept inside a brown package. With that he drove straight to Ahuja’s office, and on not finding him he drove to his residence and walked straight to his\n",
    "Upon entering the bedroom, Nanavati cursed Ahuja and inquired about his intentions about marrying Sylvia and care for the children. To that Prem Ahuja replied, “Do I have to marry every woman I have sex with” which infuriated Nanavati. In the meantime, Ahuja got hold of the revolver due to which Nanavati commanded to return which thereby, broke into a fight resulting in two shots accidentally discharged, killing Prem\n",
    "After the shooting, Nanavati went to his car and drove it to the police station, where he surrendered. As a result, the petitioner fired at Ahuja in reaction to a grave and sudden provocation, and even if he did commit an offence, it would be culpable homicide, not In a sudden battle between two parties, if one party dies as a result of the other party’s conduct made out of grave provocation or fury as a result of it, the accused will only be responsible for culpable homicide not equal to murder. None of the parties can blame the other for starting the fight, both the parties will be held equally responsible for initiating the fight.\n",
    "\n",
    "Respondent’s Arguments:\n",
    "Ahuja had just come out of the shower while wearing a The first contention given by the respondent was that even after having a fight, it is unlikely to discover the towel without loosening or falling off from the body.\n",
    "Secondly, according to Sylvia’s confession, Nanavati dropped her off in the movie theater and then proceeded towards his ship to get the handgun that too on false This proves that he had adequate cooling time, that the offense was not grave nor sudden, and that Nanavati planned the murder.\n",
    "The servant of Ahuja, Anjani was present at the time of the incident and was a direct witness, and testifies that four bullets were fired in fast succession and the entire incident took less than a minute, ruling out a\n",
    "Nanavati left Ahuja’s house without alerting his sister Mamie, who was in another room, that there had been an accident. According to the Deputy Commissioner of Police, Nanavati acknowledged shooting Ahuja and even rectified a spelling error in the police record, proving Nanavati’s capacity to think\n",
    "\"\"\""
   ]
  },
  {
   "cell_type": "markdown",
   "id": "30d6e4bd-3337-45a3-8c99-a734cdd06743",
   "metadata": {},
   "source": [
    "## Sentiment (positive/negative)"
   ]
  },
  {
   "cell_type": "code",
   "execution_count": null,
   "id": "e3157601",
   "metadata": {
    "height": 149
   },
   "outputs": [],
   "source": [
    "prompt = f\"\"\"\n",
    "What is the sentiment of the following court case judgement, \n",
    "which is delimited with triple backticks?\n",
    "\n",
    "Review text: '''{court_case}'''\n",
    "\"\"\"\n",
    "response = get_completion(prompt)\n",
    "print(response)"
   ]
  },
  {
   "cell_type": "code",
   "execution_count": null,
   "id": "acf9ca16",
   "metadata": {
    "height": 200
   },
   "outputs": [],
   "source": [
    "prompt = f\"\"\"\n",
    "What is the sentiment of the following product review, \n",
    "which is delimited with triple backticks?\n",
    "\n",
    "Give your answer as a single word, either \"positive\" \\\n",
    "or \"negative\".\n",
    "\n",
    "Review text: '''{lamp_review}'''\n",
    "\"\"\"\n",
    "response = get_completion(prompt)\n",
    "print(response)"
   ]
  },
  {
   "cell_type": "markdown",
   "id": "81d2a973-1fa4-4a35-ae35-a2e746c0e91b",
   "metadata": {},
   "source": [
    "## Identify types of emotions"
   ]
  },
  {
   "cell_type": "code",
   "execution_count": null,
   "id": "8aa7934b",
   "metadata": {
    "height": 183
   },
   "outputs": [],
   "source": [
    "prompt = f\"\"\"\n",
    "Identify a list of emotions that the writer of the \\\n",
    "following review is expressing. Include no more than \\\n",
    "five items in the list. Format your answer as a list of \\\n",
    "lower-case words separated by commas.\n",
    "\n",
    "Review text: '''{lamp_review}'''\n",
    "\"\"\"\n",
    "response = get_completion(prompt)\n",
    "print(response)"
   ]
  },
  {
   "cell_type": "markdown",
   "id": "a428d093-51c9-461c-b41e-114e80876409",
   "metadata": {},
   "source": [
    "## Identify anger"
   ]
  },
  {
   "cell_type": "code",
   "execution_count": null,
   "id": "dba1a538",
   "metadata": {
    "height": 166
   },
   "outputs": [],
   "source": [
    "prompt = f\"\"\"\n",
    "Is the writer of the following review expressing anger?\\\n",
    "The review is delimited with triple backticks. \\\n",
    "Give your answer as either yes or no.\n",
    "\n",
    "Review text: '''{lamp_review}'''\n",
    "\"\"\"\n",
    "response = get_completion(prompt)\n",
    "print(response)"
   ]
  },
  {
   "cell_type": "markdown",
   "id": "936a771e-ca78-4e55-8088-2da6f3820ddc",
   "metadata": {},
   "source": [
    "## Extract product and company name from customer reviews"
   ]
  },
  {
   "cell_type": "code",
   "execution_count": null,
   "id": "a13bea1b",
   "metadata": {
    "height": 285
   },
   "outputs": [],
   "source": [
    "prompt = f\"\"\"\n",
    "Identify the following items from the review text: \n",
    "- Item purchased by reviewer\n",
    "- Company that made the item\n",
    "\n",
    "The review is delimited with triple backticks. \\\n",
    "Format your response as a JSON object with \\\n",
    "\"Item\" and \"Brand\" as the keys. \n",
    "If the information isn't present, use \"unknown\" \\\n",
    "as the value.\n",
    "Make your response as short as possible.\n",
    "  \n",
    "Review text: '''{lamp_review}'''\n",
    "\"\"\"\n",
    "response = get_completion(prompt)\n",
    "print(response)"
   ]
  },
  {
   "cell_type": "markdown",
   "id": "a38880a5-088f-4609-9913-f8fa41fb7ba0",
   "metadata": {},
   "source": [
    "## Doing multiple tasks at once"
   ]
  },
  {
   "cell_type": "code",
   "execution_count": null,
   "id": "e7dda9e5",
   "metadata": {
    "height": 336
   },
   "outputs": [],
   "source": [
    "prompt = f\"\"\"\n",
    "Identify the following items from the review text: \n",
    "- Sentiment (positive or negative)\n",
    "- Is the reviewer expressing anger? (true or false)\n",
    "- Item purchased by reviewer\n",
    "- Company that made the item\n",
    "\n",
    "The review is delimited with triple backticks. \\\n",
    "Format your response as a JSON object with \\\n",
    "\"Sentiment\", \"Anger\", \"Item\" and \"Brand\" as the keys.\n",
    "If the information isn't present, use \"unknown\" \\\n",
    "as the value.\n",
    "Make your response as short as possible.\n",
    "Format the Anger value as a boolean.\n",
    "\n",
    "Review text: '''{lamp_review}'''\n",
    "\"\"\"\n",
    "response = get_completion(prompt)\n",
    "print(response)"
   ]
  },
  {
   "cell_type": "markdown",
   "id": "235fc223-2c89-49ec-ac2d-78a8e74a43ac",
   "metadata": {},
   "source": [
    "## Inferring topics"
   ]
  },
  {
   "cell_type": "code",
   "execution_count": 4,
   "id": "8a74cc3e",
   "metadata": {
    "height": 465
   },
   "outputs": [],
   "source": [
    "story = \"\"\"\n",
    "A scion of the ruling family of Lahaul, Prithi Chand was born on January 1, 1911, in Rangri, a small principality tucked into the Himalayas to the north of Kullu and Manali bordering Ladakh. \n",
    "\n",
    "Rangri is now part of present day Himachal Pradesh. Prithi Chand was a second generation soldier. \n",
    "\n",
    "His father Thakur Amar Chand fought during the World War 1 as part of the British Indian Army in Mesopotamia (present day Iraq). For his distinguished services under the crown, he was conferred upon the Upadhi (honour) of ‘Rai Bahadur’. \n",
    "\n",
    "Prithi Chand was enlisted in Ladakh Scouts in 1931. He quickly rose through the ranks and was commissioned into the 2nd Battalion of the Dogra Infantry Regiment in 1939.\n",
    "\n",
    "After Partition in August 1947, all princely states acceded to the Indian dominion barring Hyderabad and Jammu and Kashmir. Being Muslim dominated and contiguous to Pakistan, the accession of J&K to India was a major concern for the Indian dominion. Taking advantage of the wavering stand of Maharaja Hari Singh, Pakistan planned the annexation of the entire state of J&K, the execution of which began in late August 1947.\n",
    "\n",
    "Pakistan’s desire to forcibly occupy J&K stemmed from strategic importance of this centrally situated state in Asia, which has common borders with China, Tibet, India, Pakistan and Afghanistan. The Soviet province of Badakhshan is only a short distance to the north, separated by a mountainous strip of Afghanistan territory. By the time the Maharaja signed the Instrument of Accession to India, Pakistani raiders had entered Poonch, Baramula had fallen and Mirpur, Kotli, Jhangar, Naushera and Bhimber were under siege.  \n",
    "\n",
    "To halt the advance of the enemy at Baramula and save Srinagar, Indian Army airlifted a sizable force to Srinagar as also augmented its strength in Jammu Region. But the vast Ladakh valley with headquarters at Leh had just about two platoons of state forces to defend. Seeing the precarious defence posture of Ladakh valley, Pakistan planned to push the Lashkars of the raiders from north via Nubra valley to grab Leh, the low hanging fruit. \n",
    "\n",
    "After Lt Col Sher Jung Thapa along with a company of the state forces proceeded to reinforce Skardu, there were only two platoons left to defend Leh. There was not just the urgent need to send reinforcements, but also to defend Leh till the reinforcements arrive. The 161 Brigade started looking for suitable volunteers, who could cross the formidable Zoji La and head for Leh. The 2nd Dogra Battalion had a number of Lahaulis and Spitis serving with it. Prominent among these were Major Prithi Chand and his cousin Captain Kushal Chand. Both cousins gladly volunteered to go to Ladakh and save Leh. Forty Lahauli jawans also joined the two cousins. The party was suitably equipped and given additional rifles to equip the Ladakhis. The party along with another volunteer and an old hand, Subedar Bhim Chand, the distant uncle of Prithi and Kushal, crossed the Zoji La on February25, 1948.\n",
    "\n",
    "The exploits of the two cousins are well covered in the citations, which earned them the Maha Vir Chakra. \n",
    "\n",
    "Major Thakur Prithi Chand, MVC, was promoted to the rank of Lt Col in 1950 and commanded the 3rd Battalion of the 11th Gorkha Infantry Regiment for three years. Thakur Prithi Chand, the fearless Lahauli Dogra, retired from active service in a well-deserved rank of Colonel. \n",
    "\n",
    "The citation reads...\n",
    "\n",
    "“In February 1948, Major Thakur Prithi Chand of the 2nd Dogra Battalion volunteered to command a small force of 18 volunteers from the Indian Army in the Kashmir Valley to Leh to raise and train a militia force, and organise the defence of that area. He led this small band of brave men in mid-winter across Zoji La, a mountain pass at 11,000 feet, in snow blizzard and over 20 feet deep snow without any special snow or winter equipment. This in itself was an epic feat. On arrival at Leh, Major Prithi Chand took command of two platoons of J&K State Forces, and with his own men, hurriedly raised and trained some 200 militia. By May, the enemy had overrun most of Baltistan, captured Kargil and was advancing on Leh along the Indus and Nubra valleys. This young officer with little tactical knowledge or experience, but filled with intense patriotism and an indomitable spirit, held the enemy advance by adopting guerilla tactics. Covering a front extending over hundreds of miles, he organised raids and ambushes on the enemy, frequently leading them himself. Major Prithi Chand underwent extreme physical strain; he appeared everywhere. One day he was in the Indus valley and the next day or day after, he would be in the Nubra valley many miles away. He and his men lived mostly on sattu and with very little ammunition he kept the enemy at bay until reinforcements were sent to him by air.  Posterity will sing the praises of Major Prithi Chand and of his small band of men for generations to come, and the people of Ladakh valley will always remember them as their saviors. Major Thakur Prithi Chand throughout these operations displayed exceptional leadership, courage and indomitable spirit in the highest traditions of the Indian Army”.\n",
    "\"\"\""
   ]
  },
  {
   "cell_type": "markdown",
   "id": "a8ea91d6-e841-4ee2-bed9-ca4a36df177f",
   "metadata": {},
   "source": [
    "## Infer 5 topics"
   ]
  },
  {
   "cell_type": "code",
   "execution_count": 5,
   "id": "5c267cbe",
   "metadata": {
    "height": 217
   },
   "outputs": [
    {
     "name": "stdout",
     "output_type": "stream",
     "text": [
      "1. Prithi Chand's background and military service\n",
      "2. The partition of India and the accession of Jammu and Kashmir\n",
      "3. The strategic importance of Jammu and Kashmir\n",
      "4. The defense of Leh and the need for reinforcements\n",
      "5. The heroic actions of Major Prithi Chand and his cousin Captain Kushal Chand\n"
     ]
    }
   ],
   "source": [
    "prompt = f\"\"\"\n",
    "Determine five topics that are being discussed in the \\\n",
    "following text, which is delimited by triple backticks.\n",
    "\n",
    "Make each item one or two words long. \n",
    "\n",
    "Format your response as a list of items separated by commas.\n",
    "\n",
    "Text sample: '''{story}'''\n",
    "\"\"\"\n",
    "response = get_completion(prompt)\n",
    "print(response)"
   ]
  },
  {
   "cell_type": "code",
   "execution_count": 6,
   "id": "f92f90fe",
   "metadata": {
    "height": 30
   },
   "outputs": [
    {
     "data": {
      "text/plain": [
       "[\"1. Prithi Chand's background and military service\\n2. The partition of India and the accession of Jammu and Kashmir\\n3. The strategic importance of Jammu and Kashmir\\n4. The defense of Leh and the need for reinforcements\\n5. The heroic actions of Major Prithi Chand and his cousin Captain Kushal Chand\"]"
      ]
     },
     "execution_count": 6,
     "metadata": {},
     "output_type": "execute_result"
    }
   ],
   "source": [
    "response.split(sep=',')"
   ]
  },
  {
   "cell_type": "code",
   "execution_count": 11,
   "id": "94b8fa65",
   "metadata": {
    "height": 81
   },
   "outputs": [],
   "source": [
    "topic_list = [\n",
    "    \"India\", \"honour\", \"engineering\", \n",
    "    \"employee\", \"government\"\n",
    "]"
   ]
  },
  {
   "cell_type": "markdown",
   "id": "34be1d2a-1309-4512-841a-b6f67338938b",
   "metadata": {},
   "source": [
    "## Make a news alert for certain topics"
   ]
  },
  {
   "cell_type": "code",
   "execution_count": 12,
   "id": "626c5b8e",
   "metadata": {
    "height": 234
   },
   "outputs": [
    {
     "name": "stdout",
     "output_type": "stream",
     "text": [
      "[1, 1, 0, 0, 1]\n"
     ]
    }
   ],
   "source": [
    "prompt = f\"\"\"\n",
    "Determine whether each item in the following list of \\\n",
    "topics is a topic in the text below, which\n",
    "is delimited with triple backticks.\n",
    "\n",
    "Give your answer as list with 0 or 1 for each topic.\\\n",
    "\n",
    "List of topics: {\", \".join(topic_list)}\n",
    "\n",
    "Text sample: '''{story}'''\n",
    "\"\"\"\n",
    "response = get_completion(prompt)\n",
    "print(response)"
   ]
  },
  {
   "cell_type": "code",
   "execution_count": 13,
   "id": "902a7c74",
   "metadata": {
    "height": 79
   },
   "outputs": [
    {
     "ename": "IndexError",
     "evalue": "list index out of range",
     "output_type": "error",
     "traceback": [
      "\u001b[0;31m---------------------------------------------------------------------------\u001b[0m",
      "\u001b[0;31mIndexError\u001b[0m                                Traceback (most recent call last)",
      "Cell \u001b[0;32mIn[13], line 1\u001b[0m\n\u001b[0;32m----> 1\u001b[0m topic_dict \u001b[38;5;241m=\u001b[39m {i\u001b[38;5;241m.\u001b[39msplit(\u001b[38;5;124m'\u001b[39m\u001b[38;5;124m: \u001b[39m\u001b[38;5;124m'\u001b[39m)[\u001b[38;5;241m0\u001b[39m]: \u001b[38;5;28mint\u001b[39m(i\u001b[38;5;241m.\u001b[39msplit(\u001b[38;5;124m'\u001b[39m\u001b[38;5;124m: \u001b[39m\u001b[38;5;124m'\u001b[39m)[\u001b[38;5;241m1\u001b[39m]) \u001b[38;5;28;01mfor\u001b[39;00m i \u001b[38;5;129;01min\u001b[39;00m response\u001b[38;5;241m.\u001b[39msplit(sep\u001b[38;5;241m=\u001b[39m\u001b[38;5;124m'\u001b[39m\u001b[38;5;130;01m\\n\u001b[39;00m\u001b[38;5;124m'\u001b[39m)}\n\u001b[1;32m      2\u001b[0m \u001b[38;5;28;01mif\u001b[39;00m topic_dict[\u001b[38;5;124m'\u001b[39m\u001b[38;5;124mnasa\u001b[39m\u001b[38;5;124m'\u001b[39m] \u001b[38;5;241m==\u001b[39m \u001b[38;5;241m1\u001b[39m:\n\u001b[1;32m      3\u001b[0m     \u001b[38;5;28mprint\u001b[39m(\u001b[38;5;124m\"\u001b[39m\u001b[38;5;124mALERT: New NASA story!\u001b[39m\u001b[38;5;124m\"\u001b[39m)\n",
      "Cell \u001b[0;32mIn[13], line 1\u001b[0m, in \u001b[0;36m<dictcomp>\u001b[0;34m(.0)\u001b[0m\n\u001b[0;32m----> 1\u001b[0m topic_dict \u001b[38;5;241m=\u001b[39m {i\u001b[38;5;241m.\u001b[39msplit(\u001b[38;5;124m'\u001b[39m\u001b[38;5;124m: \u001b[39m\u001b[38;5;124m'\u001b[39m)[\u001b[38;5;241m0\u001b[39m]: \u001b[38;5;28mint\u001b[39m(\u001b[43mi\u001b[49m\u001b[38;5;241;43m.\u001b[39;49m\u001b[43msplit\u001b[49m\u001b[43m(\u001b[49m\u001b[38;5;124;43m'\u001b[39;49m\u001b[38;5;124;43m: \u001b[39;49m\u001b[38;5;124;43m'\u001b[39;49m\u001b[43m)\u001b[49m\u001b[43m[\u001b[49m\u001b[38;5;241;43m1\u001b[39;49m\u001b[43m]\u001b[49m) \u001b[38;5;28;01mfor\u001b[39;00m i \u001b[38;5;129;01min\u001b[39;00m response\u001b[38;5;241m.\u001b[39msplit(sep\u001b[38;5;241m=\u001b[39m\u001b[38;5;124m'\u001b[39m\u001b[38;5;130;01m\\n\u001b[39;00m\u001b[38;5;124m'\u001b[39m)}\n\u001b[1;32m      2\u001b[0m \u001b[38;5;28;01mif\u001b[39;00m topic_dict[\u001b[38;5;124m'\u001b[39m\u001b[38;5;124mnasa\u001b[39m\u001b[38;5;124m'\u001b[39m] \u001b[38;5;241m==\u001b[39m \u001b[38;5;241m1\u001b[39m:\n\u001b[1;32m      3\u001b[0m     \u001b[38;5;28mprint\u001b[39m(\u001b[38;5;124m\"\u001b[39m\u001b[38;5;124mALERT: New NASA story!\u001b[39m\u001b[38;5;124m\"\u001b[39m)\n",
      "\u001b[0;31mIndexError\u001b[0m: list index out of range"
     ]
    }
   ],
   "source": [
    "topic_dict = {i.split(': ')[0]: int(i.split(': ')[1]) for i in response.split(sep='\\n')}\n",
    "if topic_dict['nasa'] == 1:\n",
    "    print(\"ALERT: New NASA story!\")"
   ]
  },
  {
   "cell_type": "markdown",
   "id": "f88408ae-469a-4b02-a043-f6b4f0b14bf9",
   "metadata": {},
   "source": [
    "## Try experimenting on your own!"
   ]
  },
  {
   "cell_type": "code",
   "execution_count": null,
   "id": "1bd3553f",
   "metadata": {
    "height": 30
   },
   "outputs": [],
   "source": []
  }
 ],
 "metadata": {
  "kernelspec": {
   "display_name": "Python 3 (ipykernel)",
   "language": "python",
   "name": "python3"
  },
  "language_info": {
   "codemirror_mode": {
    "name": "ipython",
    "version": 3
   },
   "file_extension": ".py",
   "mimetype": "text/x-python",
   "name": "python",
   "nbconvert_exporter": "python",
   "pygments_lexer": "ipython3",
   "version": "3.11.3"
  }
 },
 "nbformat": 4,
 "nbformat_minor": 5
}
