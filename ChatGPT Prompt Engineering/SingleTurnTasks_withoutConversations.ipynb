{
 "cells": [
  {
   "cell_type": "code",
   "execution_count": 9,
   "id": "bae8c5de",
   "metadata": {},
   "outputs": [],
   "source": [
    "import os\n",
    "import openai\n",
    "from dotenv import load_dotenv, find_dotenv\n",
    "_ = load_dotenv(find_dotenv()) # read local .env file\n",
    "\n",
    "openai.api_key  = os.getenv('OPENAI_API_KEY')"
   ]
  },
  {
   "cell_type": "code",
   "execution_count": 10,
   "id": "4b70e1e6",
   "metadata": {},
   "outputs": [],
   "source": [
    "def get_completion(prompt, model=\"gpt-3.5-turbo\"):\n",
    "    messages = [{\"role\": \"user\", \"content\": prompt}]\n",
    "    response = openai.ChatCompletion.create(\n",
    "        model=model,\n",
    "        messages=messages,\n",
    "        temperature=0, # this is the degree of randomness of the model's output\n",
    "    )\n",
    "    return response.choices[0].message[\"content\"]\n",
    "\n",
    "def get_completion_from_messages(messages, model=\"gpt-3.5-turbo\", temperature=0):\n",
    "    response = openai.ChatCompletion.create(\n",
    "        model=model,\n",
    "        messages=messages,\n",
    "        temperature=temperature, # this is the degree of randomness of the model's output\n",
    "    )\n",
    "#     print(str(response.choices[0].message))\n",
    "    return response.choices[0].message[\"content\"]"
   ]
  },
  {
   "cell_type": "code",
   "execution_count": 11,
   "id": "973a6cda",
   "metadata": {},
   "outputs": [
    {
     "name": "stdout",
     "output_type": "stream",
     "text": [
      "Sure! To set up Unix accounts for your students, you can follow these steps:\n",
      "\n",
      "1. Open a terminal or SSH into the server as the root user.\n",
      "\n",
      "2. Create a new group for your students (optional):\n",
      "   ```\n",
      "   groupadd students\n",
      "   ```\n",
      "\n",
      "3. Create individual user accounts for each student. Replace `<username>` with the desired username for each student:\n",
      "   ```\n",
      "   useradd -g students -m -s /bin/bash <username>\n",
      "   ```\n",
      "\n",
      "   The `-g students` option assigns the user to the \"students\" group. The `-m` option creates a home directory for the user. The `-s /bin/bash` option sets the default shell to Bash.\n",
      "\n",
      "4. Set the password for each user by running the `passwd` command and following the prompts:\n",
      "   ```\n",
      "   passwd <username>\n",
      "   ```\n",
      "\n",
      "5. Repeat steps 3 and 4 for each student.\n",
      "\n",
      "6. Grant administrative privileges to specific student accounts (optional):\n",
      "   ```\n",
      "   usermod -aG sudo <username>\n",
      "   ```\n",
      "\n",
      "   This command adds the user to the \"sudo\" group, giving them sudo access to run administrative commands.\n",
      "\n",
      "7. Configure any additional settings specific to your environment, such as SSH access or network permissions.\n",
      "\n",
      "That's it! You should now have Unix accounts set up for your students.\n"
     ]
    }
   ],
   "source": [
    "messages =  [  \n",
    "{'role':'system', 'content':'You are a unix system administrator in a university'},    \n",
    "{'role':'user', 'content':'Hi, give me the commands to set up unix accounts for my students'}  ]\n",
    "response = get_completion_from_messages(messages, temperature=1)\n",
    "print(response)"
   ]
  },
  {
   "cell_type": "markdown",
   "id": "24aa9266",
   "metadata": {},
   "source": [
    "## Since the context is not saved, the next message is independent."
   ]
  },
  {
   "cell_type": "code",
   "execution_count": 12,
   "id": "420f3660",
   "metadata": {},
   "outputs": [
    {
     "name": "stdout",
     "output_type": "stream",
     "text": [
      "Sure! Here are the basic commands to set up Unix accounts for your students:\n",
      "\n",
      "1. Create a new user account:\n",
      "   ```\n",
      "   useradd username\n",
      "   ```\n",
      "   Replace 'username' with the desired username for the student.\n",
      "\n",
      "2. Set a password for the user:\n",
      "   ```\n",
      "   passwd username\n",
      "   ```\n",
      "   Replace 'username' with the student's username. You will be prompted to enter and confirm the password.\n",
      "\n",
      "3. Grant necessary permissions:\n",
      "   ```\n",
      "   usermod -aG sudo username\n",
      "   ```\n",
      "   This command adds the user to the 'sudo' group, granting them administrative privileges. Replace 'username' with the student's username.\n",
      "\n",
      "4. Create a home directory:\n",
      "   ```\n",
      "   mkdir /home/username\n",
      "   ```\n",
      "   Replace 'username' with the student's username.\n",
      "\n",
      "5. Set ownership and permissions for the home directory:\n",
      "   ```\n",
      "   chown username:username /home/username\n",
      "   chmod 700 /home/username\n",
      "   ```\n",
      "   Replace 'username' with the student's username.\n",
      "\n",
      "6. Optional: Create a separate group for the class and set group ownership for the home directory. This step allows students to share files among themselves.\n",
      "   ```\n",
      "   groupadd classgroup\n",
      "   chown :classgroup /home/username\n",
      "   chmod 750 /home/username\n",
      "   ```\n",
      "   Replace 'username' with the student's username, and 'classgroup' with the desired group name.\n",
      "\n",
      "That's it! Repeat these steps for each student to set up their Unix accounts.\n"
     ]
    }
   ],
   "source": [
    "response = get_completion_from_messages(messages, temperature=1)\n",
    "print(response)"
   ]
  },
  {
   "cell_type": "code",
   "execution_count": 6,
   "id": "56635a00",
   "metadata": {},
   "outputs": [
    {
     "name": "stdout",
     "output_type": "stream",
     "text": [
      "I'm sorry, but I don't have access to personal information about individuals unless it has been shared with me in the course of our conversation. I am designed to respect user privacy and confidentiality.\n"
     ]
    }
   ],
   "source": [
    "messages =  [  \n",
    "{'role':'system', 'content':'You are friendly assistant.'},    \n",
    "{'role':'user', 'content':'Yes,  can you remind me, What is my name?'}  ]\n",
    "response = get_completion_from_messages(messages, temperature=1)\n",
    "print(response)"
   ]
  },
  {
   "cell_type": "code",
   "execution_count": null,
   "id": "49f90a17",
   "metadata": {},
   "outputs": [],
   "source": []
  }
 ],
 "metadata": {
  "kernelspec": {
   "display_name": "Python 3 (ipykernel)",
   "language": "python",
   "name": "python3"
  },
  "language_info": {
   "codemirror_mode": {
    "name": "ipython",
    "version": 3
   },
   "file_extension": ".py",
   "mimetype": "text/x-python",
   "name": "python",
   "nbconvert_exporter": "python",
   "pygments_lexer": "ipython3",
   "version": "3.11.3"
  }
 },
 "nbformat": 4,
 "nbformat_minor": 5
}
