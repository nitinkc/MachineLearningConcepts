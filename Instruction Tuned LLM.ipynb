{
 "cells": [
  {
   "cell_type": "markdown",
   "id": "ae9c301b",
   "metadata": {},
   "source": [
    "##### Do the pip install within anacionda python\n",
    "/Applications/Development/anaconda3/bin/python\n"
   ]
  },
  {
   "cell_type": "markdown",
   "id": "4427ddfc",
   "metadata": {},
   "source": [
    "```shell\n",
    "!pip install openai\n",
    "!pip install python-dotenv\n",
    "```"
   ]
  },
  {
   "cell_type": "code",
   "execution_count": 6,
   "id": "7581c5da",
   "metadata": {},
   "outputs": [],
   "source": [
    "import openai\n",
    "import os\n",
    "\n",
    "from dotenv import load_dotenv, find_dotenv\n",
    "_ = load_dotenv(find_dotenv())\n",
    "\n",
    "openai.api_key  = os.getenv('OPENAI_API_KEY')\n",
    "#print(openai.api_key )"
   ]
  },
  {
   "cell_type": "code",
   "execution_count": 7,
   "id": "7de93b9e",
   "metadata": {},
   "outputs": [],
   "source": [
    "def get_completion(prompt, model=\"gpt-3.5-turbo\"):\n",
    "    messages = [{\"role\": \"user\", \"content\": prompt}]\n",
    "    response = openai.ChatCompletion.create(\n",
    "        model=model,\n",
    "        messages=messages,\n",
    "        temperature=0, # this is the degree of randomness of the model's output\n",
    "    )\n",
    "    return response.choices[0].message[\"content\"]"
   ]
  },
  {
   "cell_type": "markdown",
   "id": "1f85ecbe",
   "metadata": {},
   "source": [
    "F-strings provide a way to embed expressions inside string literals, using a minimal syntax. "
   ]
  },
  {
   "cell_type": "code",
   "execution_count": 8,
   "id": "db6ec03b",
   "metadata": {},
   "outputs": [],
   "source": [
    "text = f\"\"\"\n",
    "\n",
    "\"\"\""
   ]
  },
  {
   "cell_type": "code",
   "execution_count": 9,
   "id": "972e1815",
   "metadata": {},
   "outputs": [],
   "source": [
    "prompt = f\"\"\"\n",
    "Summarize the text delimited by triple backticks \\ \n",
    "into a single sentence.\n",
    "```{text}```\n",
    "\"\"\""
   ]
  },
  {
   "cell_type": "code",
   "execution_count": 10,
   "id": "9268a4e8",
   "metadata": {},
   "outputs": [
    {
     "name": "stdout",
     "output_type": "stream",
     "text": [
      "To guide a model towards the desired output and reduce irrelevant or incorrect responses, it is important to provide clear and specific instructions, which can be achieved through longer prompts that offer more clarity and context.\n"
     ]
    }
   ],
   "source": [
    "response = get_completion(prompt)\n",
    "print(response)"
   ]
  },
  {
   "cell_type": "code",
   "execution_count": 12,
   "id": "a85fb568",
   "metadata": {},
   "outputs": [
    {
     "name": "stdout",
     "output_type": "stream",
     "text": [
      "[\n",
      "  {\n",
      "    \"bookID\": 1,\n",
      "    \"title\": \"The Silent Patient\",\n",
      "    \"authors\": \"Alex Michaelides\",\n",
      "    \"ISBN\": \"978-1250301697\",\n",
      "    \"genre\": \"Psychological Thriller\",\n",
      "    \"yearPublished\": 2019\n",
      "  },\n",
      "  {\n",
      "    \"bookID\": 2,\n",
      "    \"title\": \"Educated\",\n",
      "    \"authors\": \"Tara Westover\",\n",
      "    \"ISBN\": \"978-0399590504\",\n",
      "    \"genre\": \"Memoir\",\n",
      "    \"yearPublished\": 2018\n",
      "  },\n",
      "  {\n",
      "    \"bookID\": 3,\n",
      "    \"title\": \"The Alchemist\",\n",
      "    \"authors\": \"Paulo Coelho\",\n",
      "    \"ISBN\": \"978-0062315007\",\n",
      "    \"genre\": \"Fiction\",\n",
      "    \"yearPublished\": 1988\n",
      "  }\n",
      "]\n"
     ]
    }
   ],
   "source": [
    "prompt = f\"\"\"\n",
    "Generate a list of three random book titles along \\ \n",
    "with their authors, ISBN, genres and year of publication.\n",
    "\n",
    "Provide them in JSON format with the following keys: \n",
    "bookID, title, authors, ISBN, genre, yearPublished.\n",
    "\"\"\"\n",
    "response = get_completion(prompt)\n",
    "print(response)"
   ]
  },
  {
   "cell_type": "code",
   "execution_count": null,
   "id": "90b09963",
   "metadata": {},
   "outputs": [],
   "source": []
  }
 ],
 "metadata": {
  "kernelspec": {
   "display_name": "Python 3 (ipykernel)",
   "language": "python",
   "name": "python3"
  },
  "language_info": {
   "codemirror_mode": {
    "name": "ipython",
    "version": 3
   },
   "file_extension": ".py",
   "mimetype": "text/x-python",
   "name": "python",
   "nbconvert_exporter": "python",
   "pygments_lexer": "ipython3",
   "version": "3.11.3"
  }
 },
 "nbformat": 4,
 "nbformat_minor": 5
}
